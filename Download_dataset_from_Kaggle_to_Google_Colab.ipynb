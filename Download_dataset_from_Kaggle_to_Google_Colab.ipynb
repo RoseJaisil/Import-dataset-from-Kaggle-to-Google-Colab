{
  "nbformat": 4,
  "nbformat_minor": 0,
  "metadata": {
    "colab": {
      "provenance": [],
      "authorship_tag": "ABX9TyNhadoEW7v9juXh1/SlPDhx",
      "include_colab_link": true
    },
    "kernelspec": {
      "name": "python3",
      "display_name": "Python 3"
    },
    "language_info": {
      "name": "python"
    }
  },
  "cells": [
    {
      "cell_type": "markdown",
      "metadata": {
        "id": "view-in-github",
        "colab_type": "text"
      },
      "source": [
        "<a href=\"https://colab.research.google.com/github/RoseJaisil/Import-dataset-from-Kaggle-to-Google-Colab/blob/main/Download_dataset_from_Kaggle_to_Google_Colab.ipynb\" target=\"_parent\"><img src=\"https://colab.research.google.com/assets/colab-badge.svg\" alt=\"Open In Colab\"/></a>"
      ]
    },
    {
      "cell_type": "markdown",
      "source": [
        "Code to install the kaggle pack"
      ],
      "metadata": {
        "id": "lY5hN_4KKrma"
      }
    },
    {
      "cell_type": "markdown",
      "source": [
        "Install Kaggle package - This helps to interract with the kaggle"
      ],
      "metadata": {
        "id": "MbmD6FNenvwj"
      }
    },
    {
      "cell_type": "code",
      "execution_count": null,
      "metadata": {
        "id": "sRRCPv6JATM8"
      },
      "outputs": [],
      "source": [
        "!pip install -q kaggle"
      ]
    },
    {
      "cell_type": "markdown",
      "source": [
        "Before running the cell: \n",
        "Steps:\n",
        "1. Go to your Kaggle profile.\n",
        "2. Go to your account section and scroll down.\n",
        "3. Click Create API Token (This will create API Token and download a json file).\n",
        "4. Upload json file by running the cell below "
      ],
      "metadata": {
        "id": "WAIubkxln3zV"
      }
    },
    {
      "cell_type": "code",
      "source": [
        "from google.colab import files\n",
        "files.upload()"
      ],
      "metadata": {
        "id": "BENtpEqeCFWR"
      },
      "execution_count": null,
      "outputs": []
    },
    {
      "cell_type": "markdown",
      "source": [
        "Create a folder by running the cell below"
      ],
      "metadata": {
        "id": "aTAqjIuNpD7J"
      }
    },
    {
      "cell_type": "code",
      "source": [
        "!mkdir ~/.kaggle"
      ],
      "metadata": {
        "id": "AVYMdke_CN8Q",
        "colab": {
          "base_uri": "https://localhost:8080/"
        },
        "outputId": "6d1fcb2d-a43f-4769-9086-974e5a9a00bb"
      },
      "execution_count": null,
      "outputs": [
        {
          "output_type": "stream",
          "name": "stdout",
          "text": [
            "mkdir: cannot create directory ‘/root/.kaggle’: File exists\n"
          ]
        }
      ]
    },
    {
      "cell_type": "markdown",
      "source": [
        "Copy the json file to the kaggle folder created "
      ],
      "metadata": {
        "id": "Q7cD4BQgpH7g"
      }
    },
    {
      "cell_type": "code",
      "source": [
        "!cp kaggle.json ~/.kaggle/"
      ],
      "metadata": {
        "id": "wWjITgtiCblW"
      },
      "execution_count": 19,
      "outputs": []
    },
    {
      "cell_type": "markdown",
      "source": [
        "Run the following cell for permission"
      ],
      "metadata": {
        "id": "_1ht4TljpYPX"
      }
    },
    {
      "cell_type": "code",
      "source": [
        "!chmod 600 ~/.kaggle/kaggle.json"
      ],
      "metadata": {
        "id": "kE7ZKXzlCiAL"
      },
      "execution_count": null,
      "outputs": []
    },
    {
      "cell_type": "markdown",
      "source": [
        "1. Go to the Kaggle dataset\n",
        "2. Click the three dots at the end \n",
        "3. Click 'Copy API Command'\n",
        "4. Paste it after a ! (Colab needs this for any bash commands)\n",
        "5. Runs the following cell\n",
        "\n",
        "\n",
        "\n"
      ],
      "metadata": {
        "id": "4dXVMrl0psNv"
      }
    },
    {
      "cell_type": "code",
      "source": [
        "!kaggle datasets download -d thezaza102/tray-food-segmentation"
      ],
      "metadata": {
        "colab": {
          "base_uri": "https://localhost:8080/"
        },
        "id": "kbfOiV9FC2Zz",
        "outputId": "9f349595-c418-4a7a-cf38-4e0a169c3aa8"
      },
      "execution_count": null,
      "outputs": [
        {
          "output_type": "stream",
          "name": "stdout",
          "text": [
            "tray-food-segmentation.zip: Skipping, found more recently modified local copy (use --force to force download)\n"
          ]
        }
      ]
    },
    {
      "cell_type": "markdown",
      "source": [
        "Unzip the dataset in a folder"
      ],
      "metadata": {
        "id": "jdOeFBobLfGs"
      }
    },
    {
      "cell_type": "code",
      "source": [
        "!unzip tray-food-segmentation.zip -d tray-food-segmentation"
      ],
      "metadata": {
        "colab": {
          "base_uri": "https://localhost:8080/"
        },
        "id": "mX725GzpLews",
        "outputId": "bb492cdd-c931-4e8f-fd0c-97660b3c4399"
      },
      "execution_count": null,
      "outputs": [
        {
          "output_type": "stream",
          "name": "stdout",
          "text": [
            "Archive:  tray-food-segmentation.zip\n",
            "replace tray-food-segmentation/TrayDataset/TrayDataset/XTest/1005a.jpg? [y]es, [n]o, [A]ll, [N]one, [r]ename: "
          ]
        }
      ]
    }
  ]
}